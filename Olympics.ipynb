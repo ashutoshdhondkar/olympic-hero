{
 "cells": [
  {
   "cell_type": "markdown",
   "metadata": {},
   "source": [
    "# Mega Project"
   ]
  },
  {
   "cell_type": "markdown",
   "metadata": {},
   "source": [
    "## Problem Statement\n",
    "\n",
    "*The Olympic Games, considered to be the world's foremost sports competition has more than 200 nations participating across the Summer and Winter Games alternating by occurring every four years but two years apart.<br/>Throughout this project, we will explore the Olympics dataset(scraped from https://en.wikipedia.org/wiki/All-time_Olympic_Games_medal_table) , look at some interesting statistics and then try to find out which country is the King of Olympic Games.*"
   ]
  },
  {
   "cell_type": "code",
   "execution_count": 38,
   "metadata": {},
   "outputs": [],
   "source": [
    "# importing the modules\n",
    "import numpy as np\n",
    "import pandas as pd\n",
    "import matplotlib.pyplot as plt"
   ]
  },
  {
   "cell_type": "code",
   "execution_count": 39,
   "metadata": {},
   "outputs": [
    {
     "data": {
      "text/html": [
       "<div>\n",
       "<style scoped>\n",
       "    .dataframe tbody tr th:only-of-type {\n",
       "        vertical-align: middle;\n",
       "    }\n",
       "\n",
       "    .dataframe tbody tr th {\n",
       "        vertical-align: top;\n",
       "    }\n",
       "\n",
       "    .dataframe thead th {\n",
       "        text-align: right;\n",
       "    }\n",
       "</style>\n",
       "<table border=\"1\" class=\"dataframe\">\n",
       "  <thead>\n",
       "    <tr style=\"text-align: right;\">\n",
       "      <th></th>\n",
       "      <th>Country_Name</th>\n",
       "      <th># Summer</th>\n",
       "      <th>Gold_Summer</th>\n",
       "      <th>Silver_Summer</th>\n",
       "      <th>Bronze_Summer</th>\n",
       "      <th>Total_Summer</th>\n",
       "      <th># Winter</th>\n",
       "      <th>Gold_Winter</th>\n",
       "      <th>Silver_Winter</th>\n",
       "      <th>Bronze_Winter</th>\n",
       "      <th>Total_Winter</th>\n",
       "      <th># Games</th>\n",
       "      <th>Gold_Total</th>\n",
       "      <th>Silver_Total</th>\n",
       "      <th>Bronze_Total</th>\n",
       "      <th>Total_Medals</th>\n",
       "    </tr>\n",
       "  </thead>\n",
       "  <tbody>\n",
       "    <tr>\n",
       "      <th>0</th>\n",
       "      <td>Afghanistan</td>\n",
       "      <td>13</td>\n",
       "      <td>0</td>\n",
       "      <td>0</td>\n",
       "      <td>2</td>\n",
       "      <td>2</td>\n",
       "      <td>0</td>\n",
       "      <td>0</td>\n",
       "      <td>0</td>\n",
       "      <td>0</td>\n",
       "      <td>0</td>\n",
       "      <td>13</td>\n",
       "      <td>0</td>\n",
       "      <td>0</td>\n",
       "      <td>2</td>\n",
       "      <td>2</td>\n",
       "    </tr>\n",
       "    <tr>\n",
       "      <th>1</th>\n",
       "      <td>Algeria</td>\n",
       "      <td>12</td>\n",
       "      <td>5</td>\n",
       "      <td>2</td>\n",
       "      <td>8</td>\n",
       "      <td>15</td>\n",
       "      <td>3</td>\n",
       "      <td>0</td>\n",
       "      <td>0</td>\n",
       "      <td>0</td>\n",
       "      <td>0</td>\n",
       "      <td>15</td>\n",
       "      <td>5</td>\n",
       "      <td>2</td>\n",
       "      <td>8</td>\n",
       "      <td>15</td>\n",
       "    </tr>\n",
       "    <tr>\n",
       "      <th>2</th>\n",
       "      <td>Argentina</td>\n",
       "      <td>23</td>\n",
       "      <td>18</td>\n",
       "      <td>24</td>\n",
       "      <td>28</td>\n",
       "      <td>70</td>\n",
       "      <td>18</td>\n",
       "      <td>0</td>\n",
       "      <td>0</td>\n",
       "      <td>0</td>\n",
       "      <td>0</td>\n",
       "      <td>41</td>\n",
       "      <td>18</td>\n",
       "      <td>24</td>\n",
       "      <td>28</td>\n",
       "      <td>70</td>\n",
       "    </tr>\n",
       "    <tr>\n",
       "      <th>3</th>\n",
       "      <td>Armenia</td>\n",
       "      <td>5</td>\n",
       "      <td>1</td>\n",
       "      <td>2</td>\n",
       "      <td>9</td>\n",
       "      <td>12</td>\n",
       "      <td>6</td>\n",
       "      <td>0</td>\n",
       "      <td>0</td>\n",
       "      <td>0</td>\n",
       "      <td>0</td>\n",
       "      <td>11</td>\n",
       "      <td>1</td>\n",
       "      <td>2</td>\n",
       "      <td>9</td>\n",
       "      <td>12</td>\n",
       "    </tr>\n",
       "    <tr>\n",
       "      <th>4</th>\n",
       "      <td>Australasia</td>\n",
       "      <td>2</td>\n",
       "      <td>3</td>\n",
       "      <td>4</td>\n",
       "      <td>5</td>\n",
       "      <td>12</td>\n",
       "      <td>0</td>\n",
       "      <td>0</td>\n",
       "      <td>0</td>\n",
       "      <td>0</td>\n",
       "      <td>0</td>\n",
       "      <td>2</td>\n",
       "      <td>3</td>\n",
       "      <td>4</td>\n",
       "      <td>5</td>\n",
       "      <td>12</td>\n",
       "    </tr>\n",
       "    <tr>\n",
       "      <th>5</th>\n",
       "      <td>Australia</td>\n",
       "      <td>25</td>\n",
       "      <td>139</td>\n",
       "      <td>152</td>\n",
       "      <td>177</td>\n",
       "      <td>468</td>\n",
       "      <td>18</td>\n",
       "      <td>5</td>\n",
       "      <td>3</td>\n",
       "      <td>4</td>\n",
       "      <td>12</td>\n",
       "      <td>43</td>\n",
       "      <td>144</td>\n",
       "      <td>155</td>\n",
       "      <td>181</td>\n",
       "      <td>480</td>\n",
       "    </tr>\n",
       "    <tr>\n",
       "      <th>6</th>\n",
       "      <td>Austria</td>\n",
       "      <td>26</td>\n",
       "      <td>18</td>\n",
       "      <td>33</td>\n",
       "      <td>35</td>\n",
       "      <td>86</td>\n",
       "      <td>22</td>\n",
       "      <td>59</td>\n",
       "      <td>78</td>\n",
       "      <td>81</td>\n",
       "      <td>218</td>\n",
       "      <td>48</td>\n",
       "      <td>77</td>\n",
       "      <td>111</td>\n",
       "      <td>116</td>\n",
       "      <td>304</td>\n",
       "    </tr>\n",
       "    <tr>\n",
       "      <th>7</th>\n",
       "      <td>Azerbaijan</td>\n",
       "      <td>5</td>\n",
       "      <td>6</td>\n",
       "      <td>5</td>\n",
       "      <td>15</td>\n",
       "      <td>26</td>\n",
       "      <td>5</td>\n",
       "      <td>0</td>\n",
       "      <td>0</td>\n",
       "      <td>0</td>\n",
       "      <td>0</td>\n",
       "      <td>10</td>\n",
       "      <td>6</td>\n",
       "      <td>5</td>\n",
       "      <td>15</td>\n",
       "      <td>26</td>\n",
       "    </tr>\n",
       "    <tr>\n",
       "      <th>8</th>\n",
       "      <td>Bahamas</td>\n",
       "      <td>15</td>\n",
       "      <td>5</td>\n",
       "      <td>2</td>\n",
       "      <td>5</td>\n",
       "      <td>12</td>\n",
       "      <td>0</td>\n",
       "      <td>0</td>\n",
       "      <td>0</td>\n",
       "      <td>0</td>\n",
       "      <td>0</td>\n",
       "      <td>15</td>\n",
       "      <td>5</td>\n",
       "      <td>2</td>\n",
       "      <td>5</td>\n",
       "      <td>12</td>\n",
       "    </tr>\n",
       "    <tr>\n",
       "      <th>9</th>\n",
       "      <td>Bahrain</td>\n",
       "      <td>8</td>\n",
       "      <td>0</td>\n",
       "      <td>0</td>\n",
       "      <td>1</td>\n",
       "      <td>1</td>\n",
       "      <td>0</td>\n",
       "      <td>0</td>\n",
       "      <td>0</td>\n",
       "      <td>0</td>\n",
       "      <td>0</td>\n",
       "      <td>8</td>\n",
       "      <td>0</td>\n",
       "      <td>0</td>\n",
       "      <td>1</td>\n",
       "      <td>1</td>\n",
       "    </tr>\n",
       "  </tbody>\n",
       "</table>\n",
       "</div>"
      ],
      "text/plain": [
       "  Country_Name  # Summer  Gold_Summer  Silver_Summer  Bronze_Summer  \\\n",
       "0  Afghanistan        13            0              0              2   \n",
       "1      Algeria        12            5              2              8   \n",
       "2    Argentina        23           18             24             28   \n",
       "3      Armenia         5            1              2              9   \n",
       "4  Australasia         2            3              4              5   \n",
       "5    Australia        25          139            152            177   \n",
       "6      Austria        26           18             33             35   \n",
       "7   Azerbaijan         5            6              5             15   \n",
       "8      Bahamas        15            5              2              5   \n",
       "9      Bahrain         8            0              0              1   \n",
       "\n",
       "   Total_Summer  # Winter  Gold_Winter  Silver_Winter  Bronze_Winter  \\\n",
       "0             2         0            0              0              0   \n",
       "1            15         3            0              0              0   \n",
       "2            70        18            0              0              0   \n",
       "3            12         6            0              0              0   \n",
       "4            12         0            0              0              0   \n",
       "5           468        18            5              3              4   \n",
       "6            86        22           59             78             81   \n",
       "7            26         5            0              0              0   \n",
       "8            12         0            0              0              0   \n",
       "9             1         0            0              0              0   \n",
       "\n",
       "   Total_Winter  # Games  Gold_Total  Silver_Total  Bronze_Total  Total_Medals  \n",
       "0             0       13           0             0             2             2  \n",
       "1             0       15           5             2             8            15  \n",
       "2             0       41          18            24            28            70  \n",
       "3             0       11           1             2             9            12  \n",
       "4             0        2           3             4             5            12  \n",
       "5            12       43         144           155           181           480  \n",
       "6           218       48          77           111           116           304  \n",
       "7             0       10           6             5            15            26  \n",
       "8             0       15           5             2             5            12  \n",
       "9             0        8           0             0             1             1  "
      ]
     },
     "execution_count": 39,
     "metadata": {},
     "output_type": "execute_result"
    }
   ],
   "source": [
    "# loading the dataset\n",
    "data = pd.read_csv(\"olympics.csv\")\n",
    "\n",
    "# renaming the column\n",
    "data.rename(columns = {'Total':'Total_Medals'},inplace = True)\n",
    "\n",
    "# displaying the first 10 records\n",
    "data.head(10)"
   ]
  },
  {
   "cell_type": "markdown",
   "metadata": {},
   "source": [
    "## Summer or Winter\n",
    "\n",
    "*Some Countries love Summer, some Winter. We think it has to do something with their Olympic performance.*\n",
    "\n",
    "*For this task we will try to figure out which olympic event does a country perform better in.*"
   ]
  },
  {
   "cell_type": "code",
   "execution_count": 40,
   "metadata": {},
   "outputs": [],
   "source": [
    "# Create a new column Better_Event that stores 'Summer','Winter' or 'Both' based on the comparision "
   ]
  },
  {
   "cell_type": "code",
   "execution_count": 41,
   "metadata": {},
   "outputs": [],
   "source": [
    "# making use of np.where(condition,if(True),if(False))"
   ]
  },
  {
   "cell_type": "code",
   "execution_count": 42,
   "metadata": {},
   "outputs": [
    {
     "data": {
      "text/plain": [
       "'Summer'"
      ]
     },
     "execution_count": 42,
     "metadata": {},
     "output_type": "execute_result"
    }
   ],
   "source": [
    "\n",
    "data['Better_Event'] = np.where(data['Total_Summer'] > data['Total_Winter'],'Summer',(\n",
    "                                np.where( data['Total_Summer'] < data['Total_Winter'],'Winter','both' )))\n",
    "\n",
    "\n",
    "# finding the better event\n",
    "better_event = data['Better_Event'].value_counts(ascending = False).idxmax()\n",
    "better_event"
   ]
  },
  {
   "cell_type": "markdown",
   "metadata": {},
   "source": [
    "## Top 10\n",
    "\n",
    "So we figured out which is a better event for each country. Let's move on to finding out the best performing countries across all events\n",
    "\n",
    "In this task we will try to find\n",
    "\n",
    "Which are the top 10 performing teams at summer event (with respect to total medals), winter event and overall?\n",
    "How many teams are present in all of the three lists above?"
   ]
  },
  {
   "cell_type": "code",
   "execution_count": 43,
   "metadata": {},
   "outputs": [],
   "source": [
    "# df.nlargest(3,'column name')\n",
    "# returns the dataframe of top 3 rows of specified column"
   ]
  },
  {
   "cell_type": "code",
   "execution_count": 44,
   "metadata": {},
   "outputs": [
    {
     "name": "stdout",
     "output_type": "stream",
     "text": [
      "['United States', 'Germany', 'Sweden', 'Soviet Union']\n"
     ]
    }
   ],
   "source": [
    "top_countries = data[['Country_Name','Total_Summer', 'Total_Winter','Total_Medals']]\n",
    "\n",
    "# dropping the last row as it contains the sum of all the columns\n",
    "top_countries = top_countries.iloc[:-1,:]\n",
    "\n",
    "def top_ten(top_countries,column):\n",
    "    \n",
    "    # creating a new empty list\n",
    "    country_list = list()\n",
    "    \n",
    "    # type casting the pandas.Series object to list\n",
    "    country_list = list(top_countries.nlargest(10,column)['Country_Name'])\n",
    "    \n",
    "    return country_list\n",
    "\n",
    "top_10_summer, top_10_winter,top_10 = top_ten(top_countries,'Total_Summer'),top_ten(top_countries,'Total_Winter'),top_ten(top_countries,'Total_Medals')\n",
    "\n",
    "# storing the common elemtns between 3 lists\n",
    "common = list(set(top_10_summer) & set(top_10_winter) & set(top_10))\n",
    "print(common)"
   ]
  },
  {
   "cell_type": "markdown",
   "metadata": {},
   "source": [
    "## Plotting Top 10\n",
    "\n",
    "From the lists that you have created from the previous task, let's plot the medal count of the top 10 countries for better visualisation"
   ]
  },
  {
   "cell_type": "code",
   "execution_count": 45,
   "metadata": {},
   "outputs": [],
   "source": [
    "# making use of df[df['attr'].isin([iterable])]"
   ]
  },
  {
   "cell_type": "code",
   "execution_count": 46,
   "metadata": {},
   "outputs": [],
   "source": [
    "summer_df = data[data['Country_Name'].isin(top_10_summer)]\n",
    "winter_df = data[data['Country_Name'].isin(top_10_winter)]\n",
    "top_df = data[data['Country_Name'].isin(top_10)]"
   ]
  },
  {
   "cell_type": "code",
   "execution_count": 47,
   "metadata": {},
   "outputs": [
    {
     "data": {
      "image/png": "[encoded data removed]",
      "text/plain": [
       "<Figure size 1440x720 with 3 Axes>"
      ]
     },
     "metadata": {},
     "output_type": "display_data"
    }
   ],
   "source": [
    "# plotting bar grap\n",
    "\n",
    "fig,(ax_1,ax_2,ax_3) = plt.subplots(1,3,figsize = (20,10))\n",
    "\n",
    "summer_df['Country_Name'].value_counts().plot(kind=\"bar\",ax = ax_1)\n",
    "ax_1.set_xlabel(\"Country Names\")\n",
    "ax_1.set_ylabel(\"Frequency\")\n",
    "ax_1.set_title(\"Top 10 Summer\")\n",
    "\n",
    "winter_df['Country_Name'].value_counts().plot(kind=\"bar\",ax = ax_2)\n",
    "ax_2.set_xlabel(\"Country Names\")\n",
    "ax_2.set_ylabel(\"Frequency\")\n",
    "ax_2.set_title(\"Top 10 Winter\")\n",
    "\n",
    "top_df['Country_Name'].value_counts().plot(kind=\"bar\",ax = ax_3)\n",
    "ax_3.set_xlabel(\"Country Names\")\n",
    "ax_3.set_ylabel(\"Frequency\")\n",
    "ax_3.set_title(\"Top 10\")\n",
    "\n",
    "plt.show()"
   ]
  },
  {
   "cell_type": "markdown",
   "metadata": {},
   "source": [
    "## Top performing country(Gold) \n",
    "\n",
    "Winning silver or bronze medals is a big achievement but winning gold is bigger. \n",
    "Using the above created dataframe subsets, in this task let's find out which country has had the best performance with respect to the ratio between gold medals won and total medals won."
   ]
  },
  {
   "cell_type": "code",
   "execution_count": 56,
   "metadata": {},
   "outputs": [
    {
     "name": "stdout",
     "output_type": "stream",
     "text": [
      "China\n"
     ]
    },
    {
     "name": "stderr",
     "output_type": "stream",
     "text": [
      "C:\\Users\\Ashutosh\\Anaconda3\\lib\\site-packages\\ipykernel_launcher.py:2: SettingWithCopyWarning: \n",
      "A value is trying to be set on a copy of a slice from a DataFrame.\n",
      "Try using .loc[row_indexer,col_indexer] = value instead\n",
      "\n",
      "See the caveats in the documentation: http://pandas.pydata.org/pandas-docs/stable/indexing.html#indexing-view-versus-copy\n",
      "  \n"
     ]
    }
   ],
   "source": [
    "\n",
    "summer_df['Golden_Ratio'] = summer_df['Gold_Summer'] / summer_df['Total_Summer']\n",
    "\n",
    "\n",
    "\n",
    "summer_max_ratio = max(summer_df['Golden_Ratio'].value_counts().keys())\n",
    "\n",
    "\n",
    "summer_country_gold = list(summer_df[summer_df['Golden_Ratio'] == summer_max_ratio]['Country_Name'])[0]\n"
   ]
  },
  {
   "cell_type": "code",
   "execution_count": 60,
   "metadata": {},
   "outputs": [
    {
     "name": "stderr",
     "output_type": "stream",
     "text": [
      "C:\\Users\\Ashutosh\\Anaconda3\\lib\\site-packages\\ipykernel_launcher.py:1: SettingWithCopyWarning: \n",
      "A value is trying to be set on a copy of a slice from a DataFrame.\n",
      "Try using .loc[row_indexer,col_indexer] = value instead\n",
      "\n",
      "See the caveats in the documentation: http://pandas.pydata.org/pandas-docs/stable/indexing.html#indexing-view-versus-copy\n",
      "  \"\"\"Entry point for launching an IPython kernel.\n"
     ]
    }
   ],
   "source": [
    "winter_df['Golden_Ratio'] = winter_df['Gold_Winter'] / winter_df['Total_Winter']\n",
    "\n",
    "winter_max_ratio = max(winter_df['Golden_Ratio'].value_counts().keys())\n",
    "\n",
    "\n",
    "winter_country_gold = list(winter_df[winter_df['Golden_Ratio'] == winter_max_ratio]['Country_Name'])[0]"
   ]
  },
  {
   "cell_type": "code",
   "execution_count": 59,
   "metadata": {},
   "outputs": [
    {
     "name": "stderr",
     "output_type": "stream",
     "text": [
      "C:\\Users\\Ashutosh\\Anaconda3\\lib\\site-packages\\ipykernel_launcher.py:1: SettingWithCopyWarning: \n",
      "A value is trying to be set on a copy of a slice from a DataFrame.\n",
      "Try using .loc[row_indexer,col_indexer] = value instead\n",
      "\n",
      "See the caveats in the documentation: http://pandas.pydata.org/pandas-docs/stable/indexing.html#indexing-view-versus-copy\n",
      "  \"\"\"Entry point for launching an IPython kernel.\n"
     ]
    }
   ],
   "source": [
    "top_df['Golden_Ratio'] = top_df['Gold_Total'] / top_df['Total_Medals']\n",
    "\n",
    "top_max_ratio = max(top_df['Golden_Ratio'].value_counts().keys())\n",
    "\n",
    "\n",
    "top_country_gold = list(top_df[top_df['Golden_Ratio'] == top_max_ratio]['Country_Name'])[0]\n",
    "\n"
   ]
  },
  {
   "cell_type": "markdown",
   "metadata": {},
   "source": [
    "## Best in the world\n",
    "\n",
    "Winning Gold is great but is winning most gold equivalent to being the best overall perfomer? Let's find out."
   ]
  },
  {
   "cell_type": "code",
   "execution_count": 75,
   "metadata": {},
   "outputs": [
    {
     "data": {
      "text/plain": [
       "'United States'"
      ]
     },
     "execution_count": 75,
     "metadata": {},
     "output_type": "execute_result"
    }
   ],
   "source": [
    "data_1 = data.iloc[:-1,:-2]\n",
    "\n",
    "data_1['Total_Points'] = data_1['Gold_Total'] * 3 + data_1['Silver_Total'] * 2 + data_1['Bronze_Total']\n",
    "\n",
    "# fnding the maximum value\n",
    "most_points = data_1['Total_Points'].max()\n",
    "\n",
    "# finding the country associated with most points\n",
    "best_country = list(data_1[data_1['Total_Points'] == most_points ]['Country_Name'])[0]\n"
   ]
  },
  {
   "cell_type": "markdown",
   "metadata": {},
   "source": [
    "## Plot for the best\n",
    "\n",
    "We know which country is best when it comes to winning the most points in Olympic Games. Let's plot the medal count to visualise their success better."
   ]
  },
  {
   "cell_type": "code",
   "execution_count": 82,
   "metadata": {},
   "outputs": [
    {
     "data": {
      "image/png": "[encoded data removed]",
      "text/plain": [
       "<Figure size 432x288 with 1 Axes>"
      ]
     },
     "metadata": {},
     "output_type": "display_data"
    }
   ],
   "source": [
    "best = data[data['Country_Name'] == best_country]\n",
    "\n",
    "best = best[['Gold_Total','Silver_Total','Bronze_Total']]\n",
    "\n",
    "best.plot(kind=\"bar\",stacked = True)\n",
    "plt.xlabel(\"United States\")\n",
    "plt.ylabel(\"Medals Tally\")\n",
    "plt.xticks(rotation = 45)\n",
    "plt.show()"
   ]
  }
 ],
 "metadata": {
  "kernelspec": {
   "display_name": "Python 3",
   "language": "python",
   "name": "python3"
  },
  "language_info": {
   "codemirror_mode": {
    "name": "ipython",
    "version": 3
   },
   "file_extension": ".py",
   "mimetype": "text/x-python",
   "name": "python",
   "nbconvert_exporter": "python",
   "pygments_lexer": "ipython3",
   "version": "3.6.5"
  }
 },
 "nbformat": 4,
 "nbformat_minor": 2
}
